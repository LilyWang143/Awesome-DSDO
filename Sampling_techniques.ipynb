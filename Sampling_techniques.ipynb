{
  "cells": [
    {
      "cell_type": "markdown",
      "metadata": {
        "id": "view-in-github",
        "colab_type": "text"
      },
      "source": [
        "<a href=\"https://colab.research.google.com/github/LilyWang143/Awesome-DSDO/blob/main/Sampling_techniques.ipynb\" target=\"_parent\"><img src=\"https://colab.research.google.com/assets/colab-badge.svg\" alt=\"Open In Colab\"/></a>"
      ]
    },
    {
      "cell_type": "markdown",
      "metadata": {
        "id": "kf46CC0sGtz-"
      },
      "source": [
        "# Sampling Techniques in Statistics\n",
        "\n",
        "In this notebook, we will explore four primary sampling strategies used in statistics and data science:\n",
        "\n",
        "1. Simple Random Sampling\n",
        "2. Stratified Sampling\n",
        "3. Systematic Sampling\n",
        "4. Cluster Sampling\n",
        "\n",
        "Each technique has its advantages and disadvantages depending on the data's structure and the research's objective.\n",
        "\n",
        "## Scenario\n",
        "\n",
        "Imagine a large company wants to survey its employees about their job satisfaction. There are thousands of employees across multiple departments, age groups, and locations. For accurate insights, selecting a sample that represents the population without needing to survey every individual is crucial.\n"
      ]
    },
    {
      "cell_type": "code",
      "execution_count": 1,
      "metadata": {
        "colab": {
          "base_uri": "https://localhost:8080/",
          "height": 206
        },
        "id": "YsDksM8ZGtz_",
        "outputId": "6424db30-feb2-4b65-9038-5f457125717f"
      },
      "outputs": [
        {
          "output_type": "execute_result",
          "data": {
            "text/plain": [
              "   EmployeeID  Age   Department   Location\n",
              "0           1   50      Finance  Edinburgh\n",
              "1           2   36  Engineering  Edinburgh\n",
              "2           3   29      Finance     London\n",
              "3           4   42      Finance     London\n",
              "4           5   40        Sales    Bristol"
            ],
            "text/html": [
              "\n",
              "  <div id=\"df-6b558348-3813-4eff-81fa-14882bfd041a\" class=\"colab-df-container\">\n",
              "    <div>\n",
              "<style scoped>\n",
              "    .dataframe tbody tr th:only-of-type {\n",
              "        vertical-align: middle;\n",
              "    }\n",
              "\n",
              "    .dataframe tbody tr th {\n",
              "        vertical-align: top;\n",
              "    }\n",
              "\n",
              "    .dataframe thead th {\n",
              "        text-align: right;\n",
              "    }\n",
              "</style>\n",
              "<table border=\"1\" class=\"dataframe\">\n",
              "  <thead>\n",
              "    <tr style=\"text-align: right;\">\n",
              "      <th></th>\n",
              "      <th>EmployeeID</th>\n",
              "      <th>Age</th>\n",
              "      <th>Department</th>\n",
              "      <th>Location</th>\n",
              "    </tr>\n",
              "  </thead>\n",
              "  <tbody>\n",
              "    <tr>\n",
              "      <th>0</th>\n",
              "      <td>1</td>\n",
              "      <td>50</td>\n",
              "      <td>Finance</td>\n",
              "      <td>Edinburgh</td>\n",
              "    </tr>\n",
              "    <tr>\n",
              "      <th>1</th>\n",
              "      <td>2</td>\n",
              "      <td>36</td>\n",
              "      <td>Engineering</td>\n",
              "      <td>Edinburgh</td>\n",
              "    </tr>\n",
              "    <tr>\n",
              "      <th>2</th>\n",
              "      <td>3</td>\n",
              "      <td>29</td>\n",
              "      <td>Finance</td>\n",
              "      <td>London</td>\n",
              "    </tr>\n",
              "    <tr>\n",
              "      <th>3</th>\n",
              "      <td>4</td>\n",
              "      <td>42</td>\n",
              "      <td>Finance</td>\n",
              "      <td>London</td>\n",
              "    </tr>\n",
              "    <tr>\n",
              "      <th>4</th>\n",
              "      <td>5</td>\n",
              "      <td>40</td>\n",
              "      <td>Sales</td>\n",
              "      <td>Bristol</td>\n",
              "    </tr>\n",
              "  </tbody>\n",
              "</table>\n",
              "</div>\n",
              "    <div class=\"colab-df-buttons\">\n",
              "\n",
              "  <div class=\"colab-df-container\">\n",
              "    <button class=\"colab-df-convert\" onclick=\"convertToInteractive('df-6b558348-3813-4eff-81fa-14882bfd041a')\"\n",
              "            title=\"Convert this dataframe to an interactive table.\"\n",
              "            style=\"display:none;\">\n",
              "\n",
              "  <svg xmlns=\"http://www.w3.org/2000/svg\" height=\"24px\" viewBox=\"0 -960 960 960\">\n",
              "    <path d=\"M120-120v-720h720v720H120Zm60-500h600v-160H180v160Zm220 220h160v-160H400v160Zm0 220h160v-160H400v160ZM180-400h160v-160H180v160Zm440 0h160v-160H620v160ZM180-180h160v-160H180v160Zm440 0h160v-160H620v160Z\"/>\n",
              "  </svg>\n",
              "    </button>\n",
              "\n",
              "  <style>\n",
              "    .colab-df-container {\n",
              "      display:flex;\n",
              "      gap: 12px;\n",
              "    }\n",
              "\n",
              "    .colab-df-convert {\n",
              "      background-color: #E8F0FE;\n",
              "      border: none;\n",
              "      border-radius: 50%;\n",
              "      cursor: pointer;\n",
              "      display: none;\n",
              "      fill: #1967D2;\n",
              "      height: 32px;\n",
              "      padding: 0 0 0 0;\n",
              "      width: 32px;\n",
              "    }\n",
              "\n",
              "    .colab-df-convert:hover {\n",
              "      background-color: #E2EBFA;\n",
              "      box-shadow: 0px 1px 2px rgba(60, 64, 67, 0.3), 0px 1px 3px 1px rgba(60, 64, 67, 0.15);\n",
              "      fill: #174EA6;\n",
              "    }\n",
              "\n",
              "    .colab-df-buttons div {\n",
              "      margin-bottom: 4px;\n",
              "    }\n",
              "\n",
              "    [theme=dark] .colab-df-convert {\n",
              "      background-color: #3B4455;\n",
              "      fill: #D2E3FC;\n",
              "    }\n",
              "\n",
              "    [theme=dark] .colab-df-convert:hover {\n",
              "      background-color: #434B5C;\n",
              "      box-shadow: 0px 1px 3px 1px rgba(0, 0, 0, 0.15);\n",
              "      filter: drop-shadow(0px 1px 2px rgba(0, 0, 0, 0.3));\n",
              "      fill: #FFFFFF;\n",
              "    }\n",
              "  </style>\n",
              "\n",
              "    <script>\n",
              "      const buttonEl =\n",
              "        document.querySelector('#df-6b558348-3813-4eff-81fa-14882bfd041a button.colab-df-convert');\n",
              "      buttonEl.style.display =\n",
              "        google.colab.kernel.accessAllowed ? 'block' : 'none';\n",
              "\n",
              "      async function convertToInteractive(key) {\n",
              "        const element = document.querySelector('#df-6b558348-3813-4eff-81fa-14882bfd041a');\n",
              "        const dataTable =\n",
              "          await google.colab.kernel.invokeFunction('convertToInteractive',\n",
              "                                                    [key], {});\n",
              "        if (!dataTable) return;\n",
              "\n",
              "        const docLinkHtml = 'Like what you see? Visit the ' +\n",
              "          '<a target=\"_blank\" href=https://colab.research.google.com/notebooks/data_table.ipynb>data table notebook</a>'\n",
              "          + ' to learn more about interactive tables.';\n",
              "        element.innerHTML = '';\n",
              "        dataTable['output_type'] = 'display_data';\n",
              "        await google.colab.output.renderOutput(dataTable, element);\n",
              "        const docLink = document.createElement('div');\n",
              "        docLink.innerHTML = docLinkHtml;\n",
              "        element.appendChild(docLink);\n",
              "      }\n",
              "    </script>\n",
              "  </div>\n",
              "\n",
              "\n",
              "<div id=\"df-6f43df09-e960-4cd6-803c-b19cda266b5d\">\n",
              "  <button class=\"colab-df-quickchart\" onclick=\"quickchart('df-6f43df09-e960-4cd6-803c-b19cda266b5d')\"\n",
              "            title=\"Suggest charts\"\n",
              "            style=\"display:none;\">\n",
              "\n",
              "<svg xmlns=\"http://www.w3.org/2000/svg\" height=\"24px\"viewBox=\"0 0 24 24\"\n",
              "     width=\"24px\">\n",
              "    <g>\n",
              "        <path d=\"M19 3H5c-1.1 0-2 .9-2 2v14c0 1.1.9 2 2 2h14c1.1 0 2-.9 2-2V5c0-1.1-.9-2-2-2zM9 17H7v-7h2v7zm4 0h-2V7h2v10zm4 0h-2v-4h2v4z\"/>\n",
              "    </g>\n",
              "</svg>\n",
              "  </button>\n",
              "\n",
              "<style>\n",
              "  .colab-df-quickchart {\n",
              "      --bg-color: #E8F0FE;\n",
              "      --fill-color: #1967D2;\n",
              "      --hover-bg-color: #E2EBFA;\n",
              "      --hover-fill-color: #174EA6;\n",
              "      --disabled-fill-color: #AAA;\n",
              "      --disabled-bg-color: #DDD;\n",
              "  }\n",
              "\n",
              "  [theme=dark] .colab-df-quickchart {\n",
              "      --bg-color: #3B4455;\n",
              "      --fill-color: #D2E3FC;\n",
              "      --hover-bg-color: #434B5C;\n",
              "      --hover-fill-color: #FFFFFF;\n",
              "      --disabled-bg-color: #3B4455;\n",
              "      --disabled-fill-color: #666;\n",
              "  }\n",
              "\n",
              "  .colab-df-quickchart {\n",
              "    background-color: var(--bg-color);\n",
              "    border: none;\n",
              "    border-radius: 50%;\n",
              "    cursor: pointer;\n",
              "    display: none;\n",
              "    fill: var(--fill-color);\n",
              "    height: 32px;\n",
              "    padding: 0;\n",
              "    width: 32px;\n",
              "  }\n",
              "\n",
              "  .colab-df-quickchart:hover {\n",
              "    background-color: var(--hover-bg-color);\n",
              "    box-shadow: 0 1px 2px rgba(60, 64, 67, 0.3), 0 1px 3px 1px rgba(60, 64, 67, 0.15);\n",
              "    fill: var(--button-hover-fill-color);\n",
              "  }\n",
              "\n",
              "  .colab-df-quickchart-complete:disabled,\n",
              "  .colab-df-quickchart-complete:disabled:hover {\n",
              "    background-color: var(--disabled-bg-color);\n",
              "    fill: var(--disabled-fill-color);\n",
              "    box-shadow: none;\n",
              "  }\n",
              "\n",
              "  .colab-df-spinner {\n",
              "    border: 2px solid var(--fill-color);\n",
              "    border-color: transparent;\n",
              "    border-bottom-color: var(--fill-color);\n",
              "    animation:\n",
              "      spin 1s steps(1) infinite;\n",
              "  }\n",
              "\n",
              "  @keyframes spin {\n",
              "    0% {\n",
              "      border-color: transparent;\n",
              "      border-bottom-color: var(--fill-color);\n",
              "      border-left-color: var(--fill-color);\n",
              "    }\n",
              "    20% {\n",
              "      border-color: transparent;\n",
              "      border-left-color: var(--fill-color);\n",
              "      border-top-color: var(--fill-color);\n",
              "    }\n",
              "    30% {\n",
              "      border-color: transparent;\n",
              "      border-left-color: var(--fill-color);\n",
              "      border-top-color: var(--fill-color);\n",
              "      border-right-color: var(--fill-color);\n",
              "    }\n",
              "    40% {\n",
              "      border-color: transparent;\n",
              "      border-right-color: var(--fill-color);\n",
              "      border-top-color: var(--fill-color);\n",
              "    }\n",
              "    60% {\n",
              "      border-color: transparent;\n",
              "      border-right-color: var(--fill-color);\n",
              "    }\n",
              "    80% {\n",
              "      border-color: transparent;\n",
              "      border-right-color: var(--fill-color);\n",
              "      border-bottom-color: var(--fill-color);\n",
              "    }\n",
              "    90% {\n",
              "      border-color: transparent;\n",
              "      border-bottom-color: var(--fill-color);\n",
              "    }\n",
              "  }\n",
              "</style>\n",
              "\n",
              "  <script>\n",
              "    async function quickchart(key) {\n",
              "      const quickchartButtonEl =\n",
              "        document.querySelector('#' + key + ' button');\n",
              "      quickchartButtonEl.disabled = true;  // To prevent multiple clicks.\n",
              "      quickchartButtonEl.classList.add('colab-df-spinner');\n",
              "      try {\n",
              "        const charts = await google.colab.kernel.invokeFunction(\n",
              "            'suggestCharts', [key], {});\n",
              "      } catch (error) {\n",
              "        console.error('Error during call to suggestCharts:', error);\n",
              "      }\n",
              "      quickchartButtonEl.classList.remove('colab-df-spinner');\n",
              "      quickchartButtonEl.classList.add('colab-df-quickchart-complete');\n",
              "    }\n",
              "    (() => {\n",
              "      let quickchartButtonEl =\n",
              "        document.querySelector('#df-6f43df09-e960-4cd6-803c-b19cda266b5d button');\n",
              "      quickchartButtonEl.style.display =\n",
              "        google.colab.kernel.accessAllowed ? 'block' : 'none';\n",
              "    })();\n",
              "  </script>\n",
              "</div>\n",
              "\n",
              "    </div>\n",
              "  </div>\n"
            ],
            "application/vnd.google.colaboratory.intrinsic+json": {
              "type": "dataframe",
              "variable_name": "data",
              "summary": "{\n  \"name\": \"data\",\n  \"rows\": 1000,\n  \"fields\": [\n    {\n      \"column\": \"EmployeeID\",\n      \"properties\": {\n        \"dtype\": \"number\",\n        \"std\": 288,\n        \"min\": 1,\n        \"max\": 1000,\n        \"num_unique_values\": 1000,\n        \"samples\": [\n          522,\n          738,\n          741\n        ],\n        \"semantic_type\": \"\",\n        \"description\": \"\"\n      }\n    },\n    {\n      \"column\": \"Age\",\n      \"properties\": {\n        \"dtype\": \"number\",\n        \"std\": 11,\n        \"min\": 22,\n        \"max\": 59,\n        \"num_unique_values\": 38,\n        \"samples\": [\n          52,\n          34,\n          40\n        ],\n        \"semantic_type\": \"\",\n        \"description\": \"\"\n      }\n    },\n    {\n      \"column\": \"Department\",\n      \"properties\": {\n        \"dtype\": \"category\",\n        \"num_unique_values\": 5,\n        \"samples\": [\n          \"Engineering\",\n          \"Marketing\",\n          \"Sales\"\n        ],\n        \"semantic_type\": \"\",\n        \"description\": \"\"\n      }\n    },\n    {\n      \"column\": \"Location\",\n      \"properties\": {\n        \"dtype\": \"category\",\n        \"num_unique_values\": 5,\n        \"samples\": [\n          \"London\",\n          \"Birmingham\",\n          \"Bristol\"\n        ],\n        \"semantic_type\": \"\",\n        \"description\": \"\"\n      }\n    }\n  ]\n}"
            }
          },
          "metadata": {},
          "execution_count": 1
        }
      ],
      "source": [
        "import pandas as pd #简写\n",
        "import numpy as np\n",
        "\n",
        "# Seed for reproducibility  保证每次运行该程序生成相同结果\n",
        "np.random.seed(42)\n",
        "\n",
        "# Generate a sample dataset\n",
        "n = 1000  # total employees\n",
        "departments = [\"Engineering\", \"HR\", \"Sales\", \"Marketing\", \"Finance\"]\n",
        "locations = [\"London\", \"Manchester\", \"Birmingham\", \"Edinburgh\", \"Bristol\"]\n",
        "ages = np.random.randint(22, 60, n)\n",
        "departments_sample = np.random.choice(departments, n)\n",
        "locations_sample = np.random.choice(locations, n)\n",
        "\n",
        "# Create DataFrame\n",
        "data = pd.DataFrame({\n",
        "    \"EmployeeID\": range(1, n + 1),\n",
        "    \"Age\": ages,\n",
        "    \"Department\": departments_sample,\n",
        "    \"Location\": locations_sample\n",
        "})\n",
        "\n",
        "data.head()"
      ]
    },
    {
      "cell_type": "markdown",
      "metadata": {
        "id": "Q_0k94W9Gt0A"
      },
      "source": [
        "## 1. Simple Random Sampling\n",
        "\n",
        "Simple Random Sampling is a basic sampling method where each individual has an equal probability of being selected.\n",
        "\n",
        "![image.png](data:image/png;base64,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)\n",
        "\n",
        "### Code Example\n"
      ]
    },
    {
      "cell_type": "code",
      "execution_count": null,
      "metadata": {
        "colab": {
          "base_uri": "https://localhost:8080/"
        },
        "id": "mURD-D2zGt0A",
        "outputId": "6e3b67a9-1a36-48e4-b6ef-f47e84bfb556"
      },
      "outputs": [
        {
          "output_type": "stream",
          "name": "stdout",
          "text": [
            "     EmployeeID  Age   Department    Location\n",
            "521         522   24      Finance     Bristol\n",
            "737         738   36      Finance      London\n",
            "740         741   49           HR   Edinburgh\n",
            "660         661   45      Finance   Edinburgh\n",
            "411         412   33  Engineering     Bristol\n",
            "..          ...  ...          ...         ...\n",
            "436         437   46        Sales  Manchester\n",
            "764         765   58        Sales      London\n",
            "88           89   30        Sales  Birmingham\n",
            "63           64   42        Sales      London\n",
            "826         827   22      Finance      London\n",
            "\n",
            "[100 rows x 4 columns]\n"
          ]
        }
      ],
      "source": [
        "# Sample 10% of the employees randomly\n",
        "sample_size = int(0.1 * len(data))\n",
        "simple_random_sample = data.sample(sample_size, random_state=42)\n",
        "\n",
        "print(simple_random_sample)"
      ]
    },
    {
      "cell_type": "markdown",
      "metadata": {
        "id": "XVs8JFopGt0A"
      },
      "source": [
        "### Pros and Cons\n",
        "\n",
        "- **Pros**: Simple to implement and understand; unbiased if sample size is large.\n",
        "- **Cons**: Can be unrepresentative for small sample sizes, especially if the population is diverse."
      ]
    },
    {
      "cell_type": "markdown",
      "metadata": {
        "id": "noO7vzeqGt0B"
      },
      "source": [
        "## 2. Stratified Sampling\n",
        "\n",
        "Stratified Sampling divides the population into distinct subgroups (strata) and samples from each stratum proportionally.\n",
        "![image.png](data:image/png;base64,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)\n",
        "\n",
        "### Example\n",
        "\n",
        "We can stratify by `Department`, ensuring each department is proportionately represented."
      ]
    },
    {
      "cell_type": "code",
      "source": [
        "stratified_sample = pd.DataFrame() #empty dataframe\n",
        "\n",
        "for department in data.groupby(\"Department\"):\n",
        "    dep_name, group = department  # Unpacking\n",
        "    stratified_sample = pd.concat([stratified_sample, group.sample(frac=0.1, random_state=42)])\n",
        "    print(department)\n",
        "    #print(dep_name)\n",
        "    #print(group)\n",
        "print(stratified_sample)"
      ],
      "metadata": {
        "colab": {
          "base_uri": "https://localhost:8080/"
        },
        "id": "3NIyVzpYebX2",
        "outputId": "3d499825-62d1-436b-baf3-2d0020870dc5"
      },
      "execution_count": 2,
      "outputs": [
        {
          "output_type": "stream",
          "name": "stdout",
          "text": [
            "('Engineering',      EmployeeID  Age   Department    Location\n",
            "1             2   36  Engineering   Edinburgh\n",
            "6             7   32  Engineering  Manchester\n",
            "11           12   24  Engineering  Manchester\n",
            "15           16   51  Engineering  Manchester\n",
            "23           24   48  Engineering      London\n",
            "..          ...  ...          ...         ...\n",
            "961         962   31  Engineering  Birmingham\n",
            "978         979   27  Engineering  Birmingham\n",
            "988         989   41  Engineering  Birmingham\n",
            "990         991   43  Engineering     Bristol\n",
            "992         993   28  Engineering     Bristol\n",
            "\n",
            "[198 rows x 4 columns])\n",
            "('Finance',      EmployeeID  Age Department    Location\n",
            "0             1   50    Finance   Edinburgh\n",
            "2             3   29    Finance      London\n",
            "3             4   42    Finance      London\n",
            "16           17   59    Finance     Bristol\n",
            "26           27   36    Finance  Birmingham\n",
            "..          ...  ...        ...         ...\n",
            "985         986   42    Finance  Manchester\n",
            "986         987   28    Finance  Birmingham\n",
            "987         988   38    Finance  Manchester\n",
            "996         997   51    Finance  Manchester\n",
            "999        1000   53    Finance  Birmingham\n",
            "\n",
            "[207 rows x 4 columns])\n",
            "('HR',      EmployeeID  Age Department    Location\n",
            "5             6   44         HR   Edinburgh\n",
            "8             9   45         HR     Bristol\n",
            "9            10   57         HR   Edinburgh\n",
            "12           13   43         HR     Bristol\n",
            "18           19   42         HR      London\n",
            "..          ...  ...        ...         ...\n",
            "975         976   45         HR     Bristol\n",
            "977         978   28         HR  Birmingham\n",
            "980         981   54         HR   Edinburgh\n",
            "983         984   47         HR  Birmingham\n",
            "989         990   41         HR     Bristol\n",
            "\n",
            "[214 rows x 4 columns])\n",
            "('Marketing',      EmployeeID  Age Department    Location\n",
            "10           11   45  Marketing   Edinburgh\n",
            "14           15   45  Marketing      London\n",
            "22           23   46  Marketing      London\n",
            "24           25   49  Marketing      London\n",
            "37           38   47  Marketing   Edinburgh\n",
            "..          ...  ...        ...         ...\n",
            "984         985   49  Marketing  Birmingham\n",
            "991         992   49  Marketing  Manchester\n",
            "993         994   22  Marketing  Manchester\n",
            "994         995   53  Marketing     Bristol\n",
            "997         998   44  Marketing   Edinburgh\n",
            "\n",
            "[194 rows x 4 columns])\n",
            "('Sales',      EmployeeID  Age Department    Location\n",
            "4             5   40      Sales     Bristol\n",
            "7             8   32      Sales      London\n",
            "13           14   23      Sales   Edinburgh\n",
            "17           18   23      Sales  Manchester\n",
            "20           21   33      Sales  Manchester\n",
            "..          ...  ...        ...         ...\n",
            "970         971   39      Sales      London\n",
            "974         975   38      Sales  Manchester\n",
            "979         980   45      Sales     Bristol\n",
            "995         996   34      Sales     Bristol\n",
            "998         999   40      Sales     Bristol\n",
            "\n",
            "[187 rows x 4 columns])\n",
            "     EmployeeID  Age   Department    Location\n",
            "313         314   41  Engineering  Birmingham\n",
            "553         554   32  Engineering  Birmingham\n",
            "86           87   49  Engineering   Edinburgh\n",
            "718         719   29  Engineering     Bristol\n",
            "779         780   58  Engineering     Bristol\n",
            "..          ...  ...          ...         ...\n",
            "247         248   42        Sales     Bristol\n",
            "78           79   45        Sales     Bristol\n",
            "862         863   46        Sales  Manchester\n",
            "943         944   52        Sales   Edinburgh\n",
            "408         409   54        Sales  Manchester\n",
            "\n",
            "[100 rows x 4 columns]\n"
          ]
        }
      ]
    },
    {
      "cell_type": "markdown",
      "source": [
        "**Exercise:**Research how to implement stratified sampling using python libraries.\n"
      ],
      "metadata": {
        "id": "0HPRWvT5raLc"
      }
    },
    {
      "cell_type": "code",
      "source": [],
      "metadata": {
        "id": "jro_9vbHrtqY"
      },
      "execution_count": null,
      "outputs": []
    },
    {
      "cell_type": "markdown",
      "metadata": {
        "id": "7q6Owhe7Gt0B"
      },
      "source": [
        "### Pros and Cons\n",
        "\n",
        "- **Pros**: Ensures representation of key subgroups; reduces sampling bias.\n",
        "- **Cons**: Requires knowledge of subgroups; more complex to administer."
      ]
    },
    {
      "cell_type": "markdown",
      "metadata": {
        "id": "eW9g4jn6Gt0B"
      },
      "source": [
        "## 3. Systematic Sampling\n",
        "\n",
        "Systematic Sampling selects every k-th individual from a list after a random start. This approach is effective when there's no underlying pattern in the data.\n",
        "\n",
        "![image.png](data:image/png;base64,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)\n",
        "\n",
        "### Example\n",
        "\n",
        "Let’s select every 10th employee from a shuffled list."
      ]
    },
    {
      "cell_type": "code",
      "execution_count": null,
      "metadata": {
        "colab": {
          "base_uri": "https://localhost:8080/"
        },
        "id": "qWLgkx9sGt0B",
        "outputId": "a5c35954-1bbc-4d45-b83f-86b946560f14"
      },
      "outputs": [
        {
          "output_type": "stream",
          "name": "stdout",
          "text": [
            "     EmployeeID  Age   Department    Location\n",
            "0             1   50      Finance   Edinburgh\n",
            "10           11   45    Marketing   Edinburgh\n",
            "20           21   33        Sales  Manchester\n",
            "30           31   42        Sales  Manchester\n",
            "40           41   49        Sales  Manchester\n",
            "..          ...  ...          ...         ...\n",
            "950         951   22    Marketing     Bristol\n",
            "960         961   30      Finance  Birmingham\n",
            "970         971   39        Sales      London\n",
            "980         981   54           HR   Edinburgh\n",
            "990         991   43  Engineering     Bristol\n",
            "\n",
            "[100 rows x 4 columns]\n"
          ]
        }
      ],
      "source": [
        "# Systematic sampling: select every 10th employee\n",
        "k = 10\n",
        "systematic_sample = data[::k]#前两个“：\"表示数据的起始点和结束点\n",
        "print(systematic_sample)"
      ]
    },
    {
      "cell_type": "markdown",
      "source": [
        "**Exercise**\n",
        "Implement the systematic sampling using a for loop."
      ],
      "metadata": {
        "id": "pkxmG_drmbMx"
      }
    },
    {
      "cell_type": "code",
      "source": [],
      "metadata": {
        "id": "vOEQF_GgmlOR"
      },
      "execution_count": null,
      "outputs": []
    },
    {
      "cell_type": "markdown",
      "metadata": {
        "id": "fkSf1rNYGt0B"
      },
      "source": [
        "### Pros and Cons\n",
        "\n",
        "- **Pros**: Easy to execute; can spread samples across the entire population.\n",
        "- **Cons**: Can introduce bias if there's a hidden pattern that aligns with the sampling interval."
      ]
    },
    {
      "cell_type": "markdown",
      "metadata": {
        "id": "AShe0uAMGt0B"
      },
      "source": [
        "## 4. Cluster Sampling\n",
        "\n",
        "Cluster Sampling divides the population into clusters and randomly selects entire clusters for the sample.\n",
        "\n",
        "\n",
        "![image.png](data:image/png;base64,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)\n",
        "### Example\n",
        "\n",
        "If we consider `Location` as clusters, we can randomly select two locations and survey all employees in those locations."
      ]
    },
    {
      "cell_type": "code",
      "execution_count": null,
      "metadata": {
        "colab": {
          "base_uri": "https://localhost:8080/"
        },
        "id": "F5U6sx26Gt0B",
        "outputId": "f753f844-11d4-4553-9027-8f61dcac9bf2"
      },
      "outputs": [
        {
          "output_type": "stream",
          "name": "stdout",
          "text": [
            "     EmployeeID  Age   Department    Location\n",
            "4             5   40        Sales     Bristol\n",
            "8             9   45           HR     Bristol\n",
            "12           13   43           HR     Bristol\n",
            "16           17   59      Finance     Bristol\n",
            "19           20   54           HR     Bristol\n",
            "..          ...  ...          ...         ...\n",
            "992         993   28  Engineering     Bristol\n",
            "994         995   53    Marketing     Bristol\n",
            "995         996   34        Sales     Bristol\n",
            "998         999   40        Sales     Bristol\n",
            "999        1000   53      Finance  Birmingham\n",
            "\n",
            "[396 rows x 4 columns]\n"
          ]
        }
      ],
      "source": [
        "# Select random clusters (locations) and include all employees in those clusters\n",
        "chosen_clusters = np.random.choice(locations, 2, replace=False)\n",
        "cluster_sample = data[data[\"Location\"].isin(chosen_clusters)]\n",
        "\n",
        "print(cluster_sample)"
      ]
    },
    {
      "cell_type": "markdown",
      "metadata": {
        "id": "FMCZxHIRGt0B"
      },
      "source": [
        "### Pros and Cons\n",
        "\n",
        "- **Pros**: Cost-effective for large populations; ideal when clusters are naturally occurring.\n",
        "- **Cons**: Higher risk of sampling error if clusters are not diverse or representative."
      ]
    },
    {
      "cell_type": "markdown",
      "metadata": {
        "id": "7s0F-n5vGt0C"
      },
      "source": [
        "## Summary\n",
        "\n",
        "| Sampling Method        | Pros                                                      | Cons                                                       |\n",
        "|------------------------|-----------------------------------------------------------|------------------------------------------------------------|\n",
        "| Simple Random Sampling | Unbiased, easy to understand                              | May not be representative if population is diverse         |\n",
        "| Stratified Sampling    | Reduces sampling bias, ensures subgroup representation    | Requires detailed knowledge of population strata           |\n",
        "| Systematic Sampling    | Simple to implement, good spread                          | Risk of bias if periodic pattern exists                    |\n",
        "| Cluster Sampling       | Cost-effective, useful for large and geographically dispersed populations | Risk of unrepresentative sample if clusters are homogeneous |"
      ]
    }
  ],
  "metadata": {
    "kernelspec": {
      "display_name": "Python 3",
      "language": "python",
      "name": "python3"
    },
    "language_info": {
      "codemirror_mode": {
        "name": "ipython",
        "version": 3
      },
      "file_extension": ".py",
      "mimetype": "text/x-python",
      "name": "python",
      "nbconvert_exporter": "python",
      "pygments_lexer": "ipython3",
      "version": "3.6.9"
    },
    "colab": {
      "provenance": [],
      "include_colab_link": true
    }
  },
  "nbformat": 4,
  "nbformat_minor": 0
}