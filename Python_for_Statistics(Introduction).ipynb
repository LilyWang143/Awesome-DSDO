{
  "cells": [
    {
      "cell_type": "markdown",
      "metadata": {
        "id": "view-in-github",
        "colab_type": "text"
      },
      "source": [
        "<a href=\"https://colab.research.google.com/github/LilyWang143/Awesome-DSDO/blob/main/Python_for_Statistics(Introduction).ipynb\" target=\"_parent\"><img src=\"https://colab.research.google.com/assets/colab-badge.svg\" alt=\"Open In Colab\"/></a>"
      ]
    },
    {
      "cell_type": "markdown",
      "metadata": {
        "id": "8IrxrzXkPI5e"
      },
      "source": [
        "# **Introduction to Python for Statistics**"
      ]
    },
    {
      "cell_type": "markdown",
      "metadata": {
        "id": "eZH4sjNRPI5f"
      },
      "source": [
        "## First Program"
      ]
    },
    {
      "cell_type": "code",
      "execution_count": null,
      "metadata": {
        "colab": {
          "base_uri": "https://localhost:8080/"
        },
        "id": "CnaDoFwBPI5g",
        "outputId": "6be9656a-e021-42a0-a441-f6a3a882623f"
      },
      "outputs": [
        {
          "output_type": "stream",
          "name": "stdout",
          "text": [
            "Hello World!\n"
          ]
        }
      ],
      "source": [
        "print(\"Hello World!\")"
      ]
    },
    {
      "cell_type": "markdown",
      "metadata": {
        "id": "dDeN4LyLPI5h"
      },
      "source": [
        "## Variables"
      ]
    },
    {
      "cell_type": "code",
      "execution_count": null,
      "metadata": {
        "colab": {
          "base_uri": "https://localhost:8080/"
        },
        "id": "N5OMoQNgPI5h",
        "outputId": "131a3588-2945-45c1-9f0d-e7e8af091af9"
      },
      "outputs": [
        {
          "output_type": "stream",
          "name": "stdout",
          "text": [
            "Hello, World!\n",
            "<class 'str'>\n",
            "20\n",
            "<class 'int'>\n",
            "10.5\n",
            "<class 'float'>\n",
            "-55557777555\n",
            "<class 'int'>\n",
            "n\n",
            "<class 'str'>\n",
            "true\n",
            "<class 'str'>\n"
          ]
        }
      ],
      "source": [
        "s = \"Hello, World!\"\n",
        "print(s)\n",
        "print(type(s))\n",
        "a= 20\n",
        "b= 10.5\n",
        "c=-55557777555\n",
        "d='n' #Python does not have char data type\n",
        "e='true'\n",
        "\n",
        "print(a)\n",
        "print(type(a))\n",
        "print(b)\n",
        "print(type(b))\n",
        "print(c)\n",
        "print(type(c))\n",
        "print(d)\n",
        "print(type(d))\n",
        "print(e)\n",
        "print(type(e))"
      ]
    },
    {
      "cell_type": "markdown",
      "source": [
        "### Rounding and Formatting Float Numbers"
      ],
      "metadata": {
        "id": "jdid-Uq6GPHb"
      }
    },
    {
      "cell_type": "code",
      "source": [
        "x = 98.985489498894841874894984894\n",
        "rounded_number = round(x, 2)\n",
        "print(rounded_number)\n",
        "\n",
        "x= \"{:.5f}\".format(x)\n",
        "print(x)"
      ],
      "metadata": {
        "colab": {
          "base_uri": "https://localhost:8080/"
        },
        "id": "QKw2RI4VGaiZ",
        "outputId": "730ed844-39ff-42fd-ce4a-cb18c856aa44"
      },
      "execution_count": null,
      "outputs": [
        {
          "output_type": "stream",
          "name": "stdout",
          "text": [
            "98.99\n",
            "98.98549\n"
          ]
        }
      ]
    },
    {
      "cell_type": "markdown",
      "source": [
        "### **Type Casting**"
      ],
      "metadata": {
        "id": "iX92s9dA9CqD"
      }
    },
    {
      "cell_type": "code",
      "source": [
        "a= 20\n",
        "a=float(a)\n",
        "print(a)\n",
        "print(type(a))\n",
        "b= 10.5\n",
        "b=int(b)\n",
        "print(b)\n",
        "print(type(b))\n"
      ],
      "metadata": {
        "colab": {
          "base_uri": "https://localhost:8080/"
        },
        "id": "lE7AG5r99SKI",
        "outputId": "41b20170-564e-45e7-f50f-f5e117d4a786"
      },
      "execution_count": null,
      "outputs": [
        {
          "output_type": "stream",
          "name": "stdout",
          "text": [
            "20.0\n",
            "<class 'float'>\n",
            "10\n",
            "<class 'int'>\n"
          ]
        }
      ]
    },
    {
      "cell_type": "code",
      "source": [
        "#Python is case-sensitive\n",
        "a= 50\n",
        "A= 55\n",
        "print(A)\n",
        "print(a)\n",
        "print(A)"
      ],
      "metadata": {
        "colab": {
          "base_uri": "https://localhost:8080/"
        },
        "id": "fDpW18SftsGx",
        "outputId": "fdae58b4-9465-4b54-a358-346e26e4ad95"
      },
      "execution_count": null,
      "outputs": [
        {
          "output_type": "stream",
          "name": "stdout",
          "text": [
            "55\n",
            "50\n",
            "55\n"
          ]
        }
      ]
    },
    {
      "cell_type": "markdown",
      "metadata": {
        "id": "x5U9hrlKPI5i"
      },
      "source": [
        "### **List**\n",
        "List are ordered and we can change, add or remove the items in a list.\n",
        "[Lists(W3Schools)](https://www.w3schools.com/python/python_lists.asp)"
      ]
    },
    {
      "cell_type": "code",
      "execution_count": null,
      "metadata": {
        "colab": {
          "base_uri": "https://localhost:8080/"
        },
        "id": "fqbgEuKkPI5i",
        "outputId": "d3871062-799b-4254-cba1-8a3f92e71431"
      },
      "outputs": [
        {
          "output_type": "stream",
          "name": "stdout",
          "text": [
            "['pen', 'pencil', 'laptop', 'notebook', 'paper', 'book']\n",
            "pen\n",
            "book\n",
            "pencil\n",
            "['pen', 'laptop', 'notebook', 'paper', 'book']\n",
            "['pen', 'laptop', 'notebook', 'paper', 'book', 'table']\n",
            "['pen', 'notebook', 'paper', 'book', 'table']\n",
            "['paper', 'book']\n"
          ]
        }
      ],
      "source": [
        "mylist = [\"pen\", \"pencil\", \"laptop\",\"notebook\",\"paper\",\"book\"]\n",
        "print(mylist)\n",
        "print(mylist[0])\n",
        "print(mylist[-1])\n",
        "print(mylist[1])\n",
        "mylist.remove(\"pencil\")\n",
        "print(mylist)\n",
        "mylist.append(\"table\")\n",
        "print(mylist)\n",
        "mylist.pop(1)\n",
        "print(mylist)\n",
        "print(mylist[2:4])"
      ]
    },
    {
      "cell_type": "markdown",
      "metadata": {
        "id": "Aq9N7LLZPI5i"
      },
      "source": [
        "### Tuples\n",
        "Tuples are ordred and unchangeable after creation.([Tuples(w3schools)](https://www.w3schools.com/python/python_tuples.asp))"
      ]
    },
    {
      "cell_type": "code",
      "execution_count": null,
      "metadata": {
        "colab": {
          "base_uri": "https://localhost:8080/"
        },
        "id": "bdSDOsF3PI5i",
        "outputId": "905877ea-caca-45c3-b67b-f353baacb31b"
      },
      "outputs": [
        {
          "output_type": "stream",
          "name": "stdout",
          "text": [
            "('plane', 'train', 'car', 'bike', 'skate')\n",
            "plane\n",
            "skate\n",
            "('train', 'car')\n"
          ]
        }
      ],
      "source": [
        "mytuple = (\"plane\", \"train\", \"car\",\"bike\",\"skate\") #we use round brackets to create a tuple\n",
        "print(mytuple)\n",
        "print(mytuple[0])\n",
        "print(mytuple[-1])\n",
        "print(mytuple[1:3])"
      ]
    },
    {
      "cell_type": "markdown",
      "metadata": {
        "id": "iFwI8UXqPI5j"
      },
      "source": [
        "### Sets\n",
        "Set items are unordered, unchangeable(but you can add or remove items) and sets do not accept dupliactes.([Sets(w3schools)](https://www.w3schools.com/python/python_sets.asp))"
      ]
    },
    {
      "cell_type": "code",
      "execution_count": null,
      "metadata": {
        "colab": {
          "base_uri": "https://localhost:8080/"
        },
        "id": "hB2GCzSrPI5j",
        "outputId": "7373301f-3e49-465e-c066-228af93dda82"
      },
      "outputs": [
        {
          "output_type": "stream",
          "name": "stdout",
          "text": [
            "{'PSWS', 'BDAO', 'DSML', 'eBF'}\n",
            "{'PSWS', 'DSML', 'AIDL', 'BDAO', 'eBF'}\n",
            "{'PSWS', 'DSML', 'AIDL', 'BDAO'}\n",
            "{'PSWS', 'DSML', 'AIDL', 'BDAO'}\n",
            "PSWS\n",
            "DSML\n",
            "AIDL\n",
            "BDAO\n",
            "{'PSWS', 'DSML', 'AIDL', 'Jordan', 'BDAO', 'Liping', 'Awinder', 'Negar', 'Amir'}\n",
            "set()\n"
          ]
        }
      ],
      "source": [
        "myset = {\"eBF\", \"PSWS\", \"DSML\",\"BDAO\",\"eBF\",\"eBF\"} #curly brackets\n",
        "print(myset)\n",
        "myset.add(\"AIDL\")\n",
        "print(myset)\n",
        "myset.remove(\"eBF\")\n",
        "print(myset)\n",
        "print(myset)\n",
        "for x in myset:\n",
        "  print(x)\n",
        "\n",
        "newset = {\"Amir\", \"Negar\", \"Awinder\",\"Jordan\",\"Liping\"}\n",
        "\n",
        "myset.update(newset)\n",
        "print(myset)\n",
        "myset.clear()\n",
        "print(myset)\n",
        "del myset\n",
        "#print(myset)"
      ]
    },
    {
      "cell_type": "markdown",
      "metadata": {
        "id": "jIU7obSjPI5j"
      },
      "source": [
        "### Dictionaries\n",
        "Dictionaries store various data types(string, int, float,etc.) in key:value pairs. Dictionaries are ordered(in Python 3.7 and later) and changeable and do not allow duplicate values ([Dictionaries(w3schools)](https://www.w3schools.com/python/python_dictionaries.asp))\n",
        "\n"
      ]
    },
    {
      "cell_type": "code",
      "execution_count": null,
      "metadata": {
        "colab": {
          "base_uri": "https://localhost:8080/"
        },
        "id": "pMvj4sYpPI5j",
        "outputId": "34e41d28-6b0f-44c8-e7e6-f75788916089"
      },
      "outputs": [
        {
          "output_type": "stream",
          "name": "stdout",
          "text": [
            "5\n",
            "Jaguar\n",
            "['sliver', 'black', 'white', 'red', 'blue']\n",
            "['sliver', 'black', 'white', 'red', 'blue']\n",
            "{'manufacturer': 'Jaguar', 'model': 'i-pace', 'electric': True, 'year': 2024, 'colors': ['sliver', 'black', 'white', 'red', 'blue']}\n",
            "manufacturer\n",
            "model\n",
            "electric\n",
            "year\n",
            "colors\n",
            "Print Keys:\n",
            "manufacturer\n",
            "model\n",
            "electric\n",
            "year\n",
            "colors\n",
            "Print Vaules:\n",
            "Jaguar\n",
            "i-pace\n",
            "True\n",
            "2024\n",
            "['sliver', 'black', 'white', 'red', 'blue']\n",
            "['Alex', 'Digital Marketing', 2]\n"
          ]
        }
      ],
      "source": [
        "mydictionary = {\n",
        "  \"manufacturer\": \"Jaguar\",\n",
        "  \"model\": \"i-pace\",\n",
        "  \"electric\": True,\n",
        "  \"year\": 2023,\n",
        "  \"colors\": [\"sliver\", \"black\", \"white\",\"red\", \"blue\"]\n",
        "}\n",
        "print(len(mydictionary))\n",
        "print(mydictionary[\"manufacturer\"])\n",
        "print(mydictionary[\"colors\"])\n",
        "print(mydictionary.get(\"colors\"))\n",
        "mydictionary[\"year\"] = 2024\n",
        "print(mydictionary)\n",
        "for x in mydictionary:\n",
        "  print(x)\n",
        "\n",
        "print(\"Print Keys:\")\n",
        "for x in mydictionary.keys():\n",
        "  print(x)\n",
        "\n",
        "print(\"Print Vaules:\")\n",
        "for x in mydictionary.values():\n",
        "  print(x)\n",
        "\n",
        "\n",
        "students = {\n",
        "    1 : [\"Alex\", \"Digital Marketing\", 2],\n",
        "    2 : \"Ben\",\n",
        "    3 : \"Carol\",\n",
        "            }\n",
        "print(students[1])"
      ]
    },
    {
      "cell_type": "markdown",
      "metadata": {
        "id": "2j21cNs5PI5k"
      },
      "source": [
        "### Arithmetic Operators\n",
        "[Operators(w3schools)](https://www.w3schools.com/python/python_operators.asp)"
      ]
    },
    {
      "cell_type": "code",
      "execution_count": null,
      "metadata": {
        "colab": {
          "base_uri": "https://localhost:8080/"
        },
        "id": "cFj0pJkyPI5k",
        "outputId": "37637d9f-a1a1-4300-96d9-905f0145267f"
      },
      "outputs": [
        {
          "output_type": "stream",
          "name": "stdout",
          "text": [
            "7\n",
            "12\n",
            "60\n"
          ]
        }
      ],
      "source": [
        "a= 5\n",
        "b=2\n",
        "c=a+b\n",
        "print(c)\n",
        "c+=a #c=c+a\n",
        "print(c)\n",
        "c*=a #c=c*a\n",
        "print(c)"
      ]
    },
    {
      "cell_type": "markdown",
      "metadata": {
        "id": "Fby-ecx1PI5o"
      },
      "source": [
        "## Comparison Operators\n",
        "[Operators(w3schools)](https://www.w3schools.com/python/python_operators.asp)"
      ]
    },
    {
      "cell_type": "code",
      "execution_count": null,
      "metadata": {
        "colab": {
          "base_uri": "https://localhost:8080/"
        },
        "id": "jPsEeX5UPI5u",
        "outputId": "803de9f9-5ec6-4698-cd6a-f06dc52d9c6c"
      },
      "outputs": [
        {
          "output_type": "stream",
          "name": "stdout",
          "text": [
            "False\n",
            "True\n",
            "False\n",
            "True\n",
            "False\n",
            "True\n"
          ]
        }
      ],
      "source": [
        "a=55\n",
        "b=75\n",
        "print(a==b)\n",
        "print(a!=b)\n",
        "print(a>b)\n",
        "print(a<b)\n",
        "print(a>=b)\n",
        "print(a<=b)"
      ]
    },
    {
      "cell_type": "markdown",
      "metadata": {
        "id": "oNYavMRmPI5v"
      },
      "source": [
        "## Conditionals\n",
        "\n",
        "### If\n",
        "[Python Conditions(w3schools)](https://www.w3schools.com/python/python_conditions.asp)"
      ]
    },
    {
      "cell_type": "code",
      "execution_count": null,
      "metadata": {
        "colab": {
          "base_uri": "https://localhost:8080/"
        },
        "id": "0UmBrMQuPI5v",
        "outputId": "24678be2-84d6-4cf9-bd0f-25ef059d80b7"
      },
      "outputs": [
        {
          "output_type": "stream",
          "name": "stdout",
          "text": [
            "High Speed\n",
            "Reduce your speed\n"
          ]
        }
      ],
      "source": [
        "speed = 180\n",
        "max= 110\n",
        "if speed > max:\n",
        "    print(\"High Speed\")\n",
        "    print(\"Reduce your speed\")\n"
      ]
    },
    {
      "cell_type": "markdown",
      "metadata": {
        "id": "SbDBlWf4PI5v"
      },
      "source": [
        "### Elif\n",
        "[Python Conditions(w3schools)](https://www.w3schools.com/python/python_conditions.asp)"
      ]
    },
    {
      "cell_type": "code",
      "execution_count": null,
      "metadata": {
        "colab": {
          "base_uri": "https://localhost:8080/"
        },
        "id": "OCeCold5PI5v",
        "outputId": "e02bcd36-9620-41e7-9015-95a125705bf4"
      },
      "outputs": [
        {
          "output_type": "stream",
          "name": "stdout",
          "text": [
            "Turn on the big heaters\n",
            "Conditional block complete\n"
          ]
        }
      ],
      "source": [
        "room_temp = 9\n",
        "\n",
        "if room_temp < 10:\n",
        "    print(\"Turn on the big heaters\")\n",
        "elif room_temp < 20:\n",
        "    print(\"Turn on the small heaters\")\n",
        "print(\"Conditional block complete\")"
      ]
    },
    {
      "cell_type": "markdown",
      "metadata": {
        "id": "XQwAtPfZPI5v"
      },
      "source": [
        "### Else\n",
        "[Python Conditions(w3schools)](https://www.w3schools.com/python/python_conditions.asp)"
      ]
    },
    {
      "cell_type": "code",
      "execution_count": null,
      "metadata": {
        "colab": {
          "base_uri": "https://localhost:8080/"
        },
        "id": "fJzGabnjPI5v",
        "outputId": "41524104-f22f-4a6f-e2a6-9f01bdb827d2"
      },
      "outputs": [
        {
          "output_type": "stream",
          "name": "stdout",
          "text": [
            "Turn on the fans\n",
            "Conditional block complete\n"
          ]
        }
      ],
      "source": [
        "room_temp = 25\n",
        "\n",
        "if room_temp < 10:\n",
        "    print(\"Turn on the big heaters\")\n",
        "elif room_temp < 20:\n",
        "    print(\"Turn on the small heaters\")\n",
        "else:\n",
        "    print(\"Turn on the fans\")\n",
        "\n",
        "print(\"Conditional block complete\")"
      ]
    },
    {
      "cell_type": "markdown",
      "metadata": {
        "id": "p9KGAIF0PI5v"
      },
      "source": [
        "## While Loops\n",
        "[Python while loops(w3schools)](https://www.w3schools.com/python/python_while_loops.asp)"
      ]
    },
    {
      "cell_type": "code",
      "execution_count": null,
      "metadata": {
        "colab": {
          "base_uri": "https://localhost:8080/"
        },
        "id": "i0Sh7h4dPI5v",
        "outputId": "768496f8-17fc-4798-b5b8-007c32e5c7dd"
      },
      "outputs": [
        {
          "output_type": "stream",
          "name": "stdout",
          "text": [
            "0\n",
            "Hello!\n",
            "1\n",
            "Hello!\n",
            "2\n",
            "Hello!\n",
            "3\n",
            "Hello!\n",
            "4\n",
            "Hello!\n",
            "5\n",
            "Hello!\n",
            "6\n",
            "Hello!\n",
            "7\n",
            "Hello!\n",
            "8\n",
            "Hello!\n",
            "9\n",
            "Hello!\n",
            "10\n",
            "Hello!\n",
            "11\n",
            "Hello!\n",
            "12\n",
            "Hello!\n",
            "13\n",
            "Hello!\n",
            "14\n",
            "Hello!\n",
            "15\n",
            "Hello!\n",
            "16\n",
            "Hello!\n",
            "17\n",
            "Hello!\n",
            "18\n",
            "Hello!\n",
            "19\n",
            "Hello!\n",
            "While loop complete\n"
          ]
        }
      ],
      "source": [
        "count = 0\n",
        "while count < 20:\n",
        "    print(count)\n",
        "    count += 1   #same as count=count+1\n",
        "    print(\"Hello!\")\n",
        "\n",
        "print(\"While loop complete\")"
      ]
    },
    {
      "cell_type": "code",
      "execution_count": null,
      "metadata": {
        "colab": {
          "base_uri": "https://localhost:8080/"
        },
        "id": "zzuJIVHrPI5v",
        "outputId": "613219e5-e3cd-4180-9036-67fb5aae2f06"
      },
      "outputs": [
        {
          "output_type": "stream",
          "name": "stdout",
          "text": [
            "10\n",
            "9\n",
            "8\n",
            "7\n",
            "6\n",
            "While loop complete\n"
          ]
        }
      ],
      "source": [
        "count = 10\n",
        "is_running = True\n",
        "\n",
        "while is_running:\n",
        "    print(count)\n",
        "    count -= 1\n",
        "    if count == 5:\n",
        "        is_running = False\n",
        "print(\"While loop complete\")"
      ]
    },
    {
      "cell_type": "markdown",
      "metadata": {
        "id": "n2IqmDyTPI5w"
      },
      "source": [
        "### Slicing"
      ]
    },
    {
      "cell_type": "code",
      "execution_count": null,
      "metadata": {
        "colab": {
          "base_uri": "https://localhost:8080/"
        },
        "id": "XfrrDlaSPI5w",
        "outputId": "9f81c0ff-8853-40f0-e752-cee1a8c91a9a"
      },
      "outputs": [
        {
          "output_type": "stream",
          "name": "stdout",
          "text": [
            "['Jaguar', 'Land Rover']\n",
            "['Bentley', 'BMW', 'MG', 'Aston Martin']\n"
          ]
        }
      ],
      "source": [
        "my_list = ['Jaguar', 'Land Rover', 'Bentley','BMW','MG','Aston Martin']\n",
        "print(my_list[:2])\n",
        "print(my_list[2:])"
      ]
    },
    {
      "cell_type": "markdown",
      "metadata": {
        "id": "kZwXAb_9PI5y"
      },
      "source": [
        "## Functions\n",
        "[Python Functions](https://https://www.w3schools.com/python/python_functions.asp)"
      ]
    },
    {
      "cell_type": "code",
      "execution_count": null,
      "metadata": {
        "colab": {
          "base_uri": "https://localhost:8080/"
        },
        "id": "CkJ66ubTPI5y",
        "outputId": "ffa06cd5-ba25-4667-a795-d517e461d74b"
      },
      "outputs": [
        {
          "output_type": "stream",
          "name": "stdout",
          "text": [
            "17\n"
          ]
        }
      ],
      "source": [
        "def printsum(a,b,c):\n",
        "    print(a+b+c)\n",
        "\n",
        "printsum(5,10,2)\n"
      ]
    },
    {
      "cell_type": "markdown",
      "metadata": {
        "id": "Sznd3Jz7PI5y"
      },
      "source": [
        "## Returning Values"
      ]
    },
    {
      "cell_type": "code",
      "execution_count": null,
      "metadata": {
        "colab": {
          "base_uri": "https://localhost:8080/"
        },
        "id": "jsI9veXyPI5y",
        "outputId": "3ab4347e-817d-4e42-b144-b772218ae85a"
      },
      "outputs": [
        {
          "output_type": "stream",
          "name": "stdout",
          "text": [
            "11\n",
            "25.0\n",
            "(15, 5, 50)\n",
            "15 5 50\n"
          ]
        }
      ],
      "source": [
        "def add_one(number):\n",
        "    return number + 1\n",
        "\n",
        "new_number = add_one(10)\n",
        "print(new_number)\n",
        "\n",
        "\n",
        "def devide(a,b):\n",
        "  c=a/b\n",
        "  return c\n",
        "\n",
        "print(devide(50,2))\n",
        "\n",
        "\n",
        "def calculate_operations(a, b):\n",
        "    sum = a + b\n",
        "    difference = a - b\n",
        "    product = a * b\n",
        "    return sum, difference, product\n",
        "\n",
        "result = calculate_operations(10, 5)\n",
        "print(result)  # This will print the tuple (15, 5, 50)\n",
        "\n",
        "# You can also directly assign these values to separate variables\n",
        "sum_result, difference_result, product_result = calculate_operations(10, 5)\n",
        "print(sum_result, difference_result, product_result)  # Prints 15 5 50"
      ]
    },
    {
      "cell_type": "markdown",
      "source": [
        "### Lambda\n",
        "[Lambda(w3schools)](https://www.w3schools.com/python/python_lambda.asp)"
      ],
      "metadata": {
        "id": "5g3_gYfTR5Tp"
      }
    },
    {
      "cell_type": "code",
      "source": [
        "x = lambda a, b, c : a + b + c\n",
        "print(x(12, 5, 7))"
      ],
      "metadata": {
        "colab": {
          "base_uri": "https://localhost:8080/"
        },
        "id": "7qNK_fRtSLXG",
        "outputId": "b28bff5f-f0c0-4f2b-ae7a-2f0abbd3c0bf"
      },
      "execution_count": null,
      "outputs": [
        {
          "output_type": "stream",
          "name": "stdout",
          "text": [
            "24\n"
          ]
        }
      ]
    },
    {
      "cell_type": "markdown",
      "metadata": {
        "id": "HR3Zc4klPI5w"
      },
      "source": [
        "## For Loops\n",
        "[Python for loops](https://www.w3schools.com/python/python_for_loops.asp)"
      ]
    },
    {
      "cell_type": "code",
      "execution_count": null,
      "metadata": {
        "colab": {
          "base_uri": "https://localhost:8080/"
        },
        "id": "t1O1SrNQPI5w",
        "outputId": "27d18885-3c20-4598-f051-58419805922c"
      },
      "outputs": [
        {
          "output_type": "stream",
          "name": "stdout",
          "text": [
            "Amir\n",
            "Negar\n",
            "Awinder\n",
            "Jordan\n",
            "Liping\n",
            "For loop complete\n"
          ]
        }
      ],
      "source": [
        "names = [\"Amir\",\"Negar\",\"Awinder\",\"Jordan\",\"Liping\"]\n",
        "for name in names:\n",
        "    print(name)\n",
        "print(\"For loop complete\")"
      ]
    },
    {
      "cell_type": "code",
      "execution_count": null,
      "metadata": {
        "colab": {
          "base_uri": "https://localhost:8080/"
        },
        "id": "EIZfhUhjPI5w",
        "outputId": "bf6a5d6e-8d79-4fe4-e8f4-d4fe28c6f56d"
      },
      "outputs": [
        {
          "output_type": "stream",
          "name": "stdout",
          "text": [
            "J\n",
            "o\n",
            "r\n",
            "d\n",
            "a\n",
            "n\n",
            "For loop complete\n"
          ]
        }
      ],
      "source": [
        "for letter in \"Jordan\":\n",
        "    print(letter)\n",
        "print(\"For loop complete\")"
      ]
    },
    {
      "cell_type": "markdown",
      "metadata": {
        "id": "jKSEq3vvPI5w"
      },
      "source": [
        "### Range()"
      ]
    },
    {
      "cell_type": "code",
      "execution_count": null,
      "metadata": {
        "colab": {
          "base_uri": "https://localhost:8080/"
        },
        "id": "la3X_H_CPI5w",
        "outputId": "ad49bca0-af49-4391-8dfb-2bbc876fdebf"
      },
      "outputs": [
        {
          "output_type": "stream",
          "name": "stdout",
          "text": [
            "Hello\n",
            "Hello\n",
            "Hello\n",
            "Hello\n",
            "Hello\n"
          ]
        }
      ],
      "source": [
        "for i in range(5):\n",
        "    print(\"Hello!\")\n"
      ]
    },
    {
      "cell_type": "markdown",
      "metadata": {
        "id": "7qgCOzRsPI5x"
      },
      "source": [
        "## Sets\n",
        "([Python Sets(w3schools)](https://www.w3schools.com/python/python_sets.asp))"
      ]
    },
    {
      "cell_type": "code",
      "execution_count": null,
      "metadata": {
        "colab": {
          "base_uri": "https://localhost:8080/"
        },
        "id": "fbDPd4ooPI5x",
        "outputId": "19182322-f186-4849-9384-577de328bdad"
      },
      "outputs": [
        {
          "output_type": "stream",
          "name": "stdout",
          "text": [
            "{'James', 'Liping', 'Awinder', 'Jordan', 'Mark', 'Amir'}\n"
          ]
        }
      ],
      "source": [
        "staff_names2 = {\"Jordan\", \"Mark\", \"Liping\", \"James\", \"Awinder\", \"Amir\", \"Amir\"}\n",
        "print(staff_names2)"
      ]
    },
    {
      "cell_type": "markdown",
      "source": [
        "### Libraries"
      ],
      "metadata": {
        "id": "ykfiILnPiUqE"
      }
    },
    {
      "cell_type": "code",
      "execution_count": null,
      "metadata": {
        "colab": {
          "base_uri": "https://localhost:8080/"
        },
        "id": "TqJ4QndqPI5y",
        "outputId": "4a021a75-c380-4b22-ef8a-9f5dc3f80ee2"
      },
      "outputs": [
        {
          "output_type": "stream",
          "name": "stdout",
          "text": [
            "10\n",
            "5\n",
            "1\n",
            "6\n",
            "4\n",
            "4\n",
            "5\n",
            "7\n",
            "9\n",
            "7\n",
            "For loop complete\n"
          ]
        }
      ],
      "source": [
        "import random\n",
        "\n",
        "for i in range(10):\n",
        "    print(random.randint(1, 10))\n",
        "print(\"For loop complete\")"
      ]
    },
    {
      "cell_type": "markdown",
      "source": [
        "## Some of the Python libraries with applications in statistics\n",
        "[NumPy Tutorial(w3schools)](https://www.w3schools.com/python/numpy/default.asp)\n",
        "\n",
        "[Python Matplotlib(w3schools)](https://www.w3schools.com/python/matplotlib_intro.asp)\n",
        "\n",
        "[Pandas Tutorial(w3schools)](https://www.w3schools.com/python/pandas/default.asp)\n",
        "\n",
        "[Scipy Tutorial(w3schools)](https://www.w3schools.com/python/scipy/index.php)"
      ],
      "metadata": {
        "id": "ykmEkwawjx6S"
      }
    },
    {
      "cell_type": "markdown",
      "source": [
        "### Example of using Python Libraries"
      ],
      "metadata": {
        "id": "ZygJwW4Slgy1"
      }
    },
    {
      "cell_type": "code",
      "source": [
        "import seaborn as sns\n",
        "import pandas as pd\n",
        "import matplotlib.pyplot as plt\n",
        "\n",
        "# Load the example tips dataset\n",
        "tips = sns.load_dataset(\"tips\")\n",
        "\n",
        "# Create a DataFrame\n",
        "df = pd.DataFrame(tips)\n",
        "print(df)\n",
        "# Summarize the dataset\n",
        "summary = df.describe()#可直观展示dataframe的情况\n",
        "\n",
        "# Print the summary\n",
        "print(summary)\n",
        "\n",
        "# Create a boxplot to visualize total_bill distribution based on time\n",
        "plt.figure(figsize=(8, 6))#设置图标的大小\n",
        "sns.boxplot(x='time', y='total_bill', data=tips)\n",
        "plt.title('Total Bill Distribution by Time of Day')\n",
        "plt.xlabel('Time of Day')\n",
        "plt.ylabel('Total Bill')\n",
        "plt.show()\n"
      ],
      "metadata": {
        "colab": {
          "base_uri": "https://localhost:8080/",
          "height": 963
        },
        "id": "DJf4kI-7u6s8",
        "outputId": "b4137b15-982c-41f5-a8ce-3866ecfde76f"
      },
      "execution_count": null,
      "outputs": [
        {
          "output_type": "stream",
          "name": "stdout",
          "text": [
            "     total_bill   tip     sex smoker   day    time  size\n",
            "0         16.99  1.01  Female     No   Sun  Dinner     2\n",
            "1         10.34  1.66    Male     No   Sun  Dinner     3\n",
            "2         21.01  3.50    Male     No   Sun  Dinner     3\n",
            "3         23.68  3.31    Male     No   Sun  Dinner     2\n",
            "4         24.59  3.61  Female     No   Sun  Dinner     4\n",
            "..          ...   ...     ...    ...   ...     ...   ...\n",
            "239       29.03  5.92    Male     No   Sat  Dinner     3\n",
            "240       27.18  2.00  Female    Yes   Sat  Dinner     2\n",
            "241       22.67  2.00    Male    Yes   Sat  Dinner     2\n",
            "242       17.82  1.75    Male     No   Sat  Dinner     2\n",
            "243       18.78  3.00  Female     No  Thur  Dinner     2\n",
            "\n",
            "[244 rows x 7 columns]\n",
            "       total_bill         tip        size\n",
            "count  244.000000  244.000000  244.000000\n",
            "mean    19.785943    2.998279    2.569672\n",
            "std      8.902412    1.383638    0.951100\n",
            "min      3.070000    1.000000    1.000000\n",
            "25%     13.347500    2.000000    2.000000\n",
            "50%     17.795000    2.900000    2.000000\n",
            "75%     24.127500    3.562500    3.000000\n",
            "max     50.810000   10.000000    6.000000\n"
          ]
        },
        {
          "output_type": "display_data",
          "data": {
            "text/plain": [
              "<Figure size 800x600 with 1 Axes>"
            ],
            "image/png": "[encoded data removed]"
          },
          "metadata": {}
        }
      ]
    },
    {
      "cell_type": "code",
      "source": [
        "from sklearn.datasets import load_iris\n",
        "import pandas as pd\n",
        "\n",
        "# Load the iris dataset\n",
        "iris_data = load_iris()\n",
        "iris_df = pd.DataFrame(iris_data.data, columns=iris_data.feature_names)\n",
        "\n",
        "# Adding the target (species) to the DataFrame\n",
        "iris_df['species'] = pd.Categorical.from_codes(iris_data.target, iris_data.target_names)\n",
        "\n",
        "# Display the first 5 rows of the DataFrame\n",
        "print(iris_df.head())\n",
        "\n",
        "# Basic statistics of the dataset\n",
        "print(\"\\nBasic Statistics of the Iris Dataset:\\n\", iris_df.describe())\n"
      ],
      "metadata": {
        "colab": {
          "base_uri": "https://localhost:8080/"
        },
        "id": "sIzt9rQJwnll",
        "outputId": "6b1470b0-2727-438f-d4b6-1e35c8eeed12"
      },
      "execution_count": null,
      "outputs": [
        {
          "output_type": "stream",
          "name": "stdout",
          "text": [
            "   sepal length (cm)  sepal width (cm)  petal length (cm)  petal width (cm)  \\\n",
            "0                5.1               3.5                1.4               0.2   \n",
            "1                4.9               3.0                1.4               0.2   \n",
            "2                4.7               3.2                1.3               0.2   \n",
            "3                4.6               3.1                1.5               0.2   \n",
            "4                5.0               3.6                1.4               0.2   \n",
            "\n",
            "  species  \n",
            "0  setosa  \n",
            "1  setosa  \n",
            "2  setosa  \n",
            "3  setosa  \n",
            "4  setosa  \n",
            "\n",
            "Basic Statistics of the Iris Dataset:\n",
            "        sepal length (cm)  sepal width (cm)  petal length (cm)  \\\n",
            "count         150.000000        150.000000         150.000000   \n",
            "mean            5.843333          3.057333           3.758000   \n",
            "std             0.828066          0.435866           1.765298   \n",
            "min             4.300000          2.000000           1.000000   \n",
            "25%             5.100000          2.800000           1.600000   \n",
            "50%             5.800000          3.000000           4.350000   \n",
            "75%             6.400000          3.300000           5.100000   \n",
            "max             7.900000          4.400000           6.900000   \n",
            "\n",
            "       petal width (cm)  \n",
            "count        150.000000  \n",
            "mean           1.199333  \n",
            "std            0.762238  \n",
            "min            0.100000  \n",
            "25%            0.300000  \n",
            "50%            1.300000  \n",
            "75%            1.800000  \n",
            "max            2.500000  \n"
          ]
        }
      ]
    },
    {
      "cell_type": "markdown",
      "source": [
        "### Opening a dataset file"
      ],
      "metadata": {
        "id": "g_6L_0Mmw-ON"
      }
    },
    {
      "cell_type": "code",
      "source": [
        "    import pandas\n",
        "    df = pd.read_csv(\"/content/E-commerce Customer Behavior - Sheet1.csv\")\n",
        "\n",
        "    # Displaying the first five rows of the dataset\n",
        "    print(\"First five rows of the dataset:\")\n",
        "    print(df.head())\n",
        "\n",
        "    # Displaying a statistical summary of the dataset\n",
        "    print(\"\\nStatistical Summary of the Dataset:\")\n",
        "    print(df.describe())"
      ],
      "metadata": {
        "colab": {
          "base_uri": "https://localhost:8080/"
        },
        "id": "klNRVi3Hw9bC",
        "outputId": "7b76d3c2-27d0-441c-da1c-994b0e4d9031"
      },
      "execution_count": null,
      "outputs": [
        {
          "output_type": "stream",
          "name": "stdout",
          "text": [
            "First five rows of the dataset:\n",
            "   Customer ID  Gender  Age           City Membership Type  Total Spend  \\\n",
            "0          101  Female   29       New York            Gold      1120.20   \n",
            "1          102    Male   34    Los Angeles          Silver       780.50   \n",
            "2          103  Female   43        Chicago          Bronze       510.75   \n",
            "3          104    Male   30  San Francisco            Gold      1480.30   \n",
            "4          105    Male   27          Miami          Silver       720.40   \n",
            "\n",
            "   Items Purchased  Average Rating  Discount Applied  \\\n",
            "0               14             4.6              True   \n",
            "1               11             4.1             False   \n",
            "2                9             3.4              True   \n",
            "3               19             4.7             False   \n",
            "4               13             4.0              True   \n",
            "\n",
            "   Days Since Last Purchase Satisfaction Level  \n",
            "0                        25          Satisfied  \n",
            "1                        18            Neutral  \n",
            "2                        42        Unsatisfied  \n",
            "3                        12          Satisfied  \n",
            "4                        55        Unsatisfied  \n",
            "\n",
            "Statistical Summary of the Dataset:\n",
            "       Customer ID         Age  Total Spend  Items Purchased  Average Rating  \\\n",
            "count   350.000000  350.000000   350.000000       350.000000      350.000000   \n",
            "mean    275.500000   33.597143   845.381714        12.600000        4.019143   \n",
            "std     101.180532    4.870882   362.058695         4.155984        0.580539   \n",
            "min     101.000000   26.000000   410.800000         7.000000        3.000000   \n",
            "25%     188.250000   30.000000   502.000000         9.000000        3.500000   \n",
            "50%     275.500000   32.500000   775.200000        12.000000        4.100000   \n",
            "75%     362.750000   37.000000  1160.600000        15.000000        4.500000   \n",
            "max     450.000000   43.000000  1520.100000        21.000000        4.900000   \n",
            "\n",
            "       Days Since Last Purchase  \n",
            "count                350.000000  \n",
            "mean                  26.588571  \n",
            "std                   13.440813  \n",
            "min                    9.000000  \n",
            "25%                   15.000000  \n",
            "50%                   23.000000  \n",
            "75%                   38.000000  \n",
            "max                   63.000000  \n"
          ]
        }
      ]
    },
    {
      "cell_type": "markdown",
      "source": [
        "# Exercise Questions"
      ],
      "metadata": {
        "id": "aaqormW-3vVB"
      }
    },
    {
      "cell_type": "markdown",
      "source": [
        "1. Write a Python program to print \"Welcome to Python for Statistics\".\n",
        "\n",
        "\n"
      ],
      "metadata": {
        "id": "HNEG9EZa1oep"
      }
    },
    {
      "cell_type": "code",
      "source": [
        "print(\"Welcome to Python for Statistics\")"
      ],
      "metadata": {
        "id": "JG1A71O-NQrd",
        "outputId": "603ba1f2-f1ee-4bd8-c562-257f80611f06",
        "colab": {
          "base_uri": "https://localhost:8080/"
        }
      },
      "execution_count": 1,
      "outputs": [
        {
          "output_type": "stream",
          "name": "stdout",
          "text": [
            "Welcome to Python for Statistics\n"
          ]
        }
      ]
    },
    {
      "cell_type": "markdown",
      "source": [
        "2. Create a string variable named data_analysis and assign it the value \"Statistics with Python\". Print its type."
      ],
      "metadata": {
        "id": "hbCLGhjyJ952"
      }
    },
    {
      "cell_type": "code",
      "source": [
        "data_analysis = \"Statistics with Python\"\n",
        "print(type(data_analysis))"
      ],
      "metadata": {
        "id": "ECNJGl1DJ-CP",
        "outputId": "66681ddb-0431-4767-f826-9969231c302f",
        "colab": {
          "base_uri": "https://localhost:8080/"
        }
      },
      "execution_count": 2,
      "outputs": [
        {
          "output_type": "stream",
          "name": "stdout",
          "text": [
            "<class 'str'>\n"
          ]
        }
      ]
    },
    {
      "cell_type": "markdown",
      "source": [
        "3. Define three variables: integer_num (an integer), float_num (a float), and string_text (a string). Print the type of each variable."
      ],
      "metadata": {
        "id": "VnYfcRNxJ-MY"
      }
    },
    {
      "cell_type": "code",
      "source": [
        "integer_num = int()\n",
        "float_num = float()\n",
        "string_text = str()\n",
        "print(type(integer_num))\n",
        "print(type(float_num))\n",
        "print(type(string_text))"
      ],
      "metadata": {
        "id": "YWC28kZdJ-Ug",
        "outputId": "be63ffc8-05bc-45eb-a4ee-dd6f8a0cd41f",
        "colab": {
          "base_uri": "https://localhost:8080/"
        }
      },
      "execution_count": 4,
      "outputs": [
        {
          "output_type": "stream",
          "name": "stdout",
          "text": [
            "<class 'int'>\n",
            "<class 'float'>\n",
            "<class 'str'>\n"
          ]
        }
      ]
    },
    {
      "cell_type": "markdown",
      "source": [
        "4. Convert the integer 557 to a float and print the result."
      ],
      "metadata": {
        "id": "gKZ64M51J-dR"
      }
    },
    {
      "cell_type": "code",
      "source": [
        "float(557)"
      ],
      "metadata": {
        "id": "N2EnZQ7gJ-lx",
        "outputId": "6b26297a-f344-4f67-c49e-c8a4346fe579",
        "colab": {
          "base_uri": "https://localhost:8080/"
        }
      },
      "execution_count": 7,
      "outputs": [
        {
          "output_type": "execute_result",
          "data": {
            "text/plain": [
              "557.0"
            ]
          },
          "metadata": {},
          "execution_count": 7
        }
      ]
    },
    {
      "cell_type": "markdown",
      "source": [
        "5. Convert the float 45.67 to an integer and print the result."
      ],
      "metadata": {
        "id": "hvZF2i_nJ-vB"
      }
    },
    {
      "cell_type": "code",
      "source": [
        " int(45.67)"
      ],
      "metadata": {
        "id": "0RPuWRh3J-4t",
        "outputId": "f038e05f-695d-4bba-9096-904caa69b815",
        "colab": {
          "base_uri": "https://localhost:8080/"
        }
      },
      "execution_count": 8,
      "outputs": [
        {
          "output_type": "execute_result",
          "data": {
            "text/plain": [
              "45"
            ]
          },
          "metadata": {},
          "execution_count": 8
        }
      ]
    },
    {
      "cell_type": "markdown",
      "source": [
        "6. Create a list named stats_tools containing the elements \"Python\", \"R\", \"SPSS\", and \"Excel\". Print the list."
      ],
      "metadata": {
        "id": "tBpb7SUgJ_Bb"
      }
    },
    {
      "cell_type": "code",
      "source": [
        "stats_tools = [\"Python\", \"R\", \"SPSS\",  \"Excel\"]\n",
        "print(stats_tools)"
      ],
      "metadata": {
        "id": "kw73hFGiJ_KH",
        "outputId": "b78a1e09-9212-4f99-c57f-9fa81e654439",
        "colab": {
          "base_uri": "https://localhost:8080/"
        }
      },
      "execution_count": 15,
      "outputs": [
        {
          "output_type": "stream",
          "name": "stdout",
          "text": [
            "['Python', 'R', 'SPSS', 'Excel']\n"
          ]
        }
      ]
    },
    {
      "cell_type": "markdown",
      "source": [
        "7. Add \"SAS\" to the stats_tools list and print the updated list."
      ],
      "metadata": {
        "id": "NaxyHZFgJ_TC"
      }
    },
    {
      "cell_type": "code",
      "source": [
        "stats_tools.append(\"SAS\")\n",
        "print(stats_tools)"
      ],
      "metadata": {
        "id": "Cw7Jn5eSJ_bt",
        "outputId": "850894da-608a-4fc1-cf75-5cc744bf68b2",
        "colab": {
          "base_uri": "https://localhost:8080/"
        }
      },
      "execution_count": 16,
      "outputs": [
        {
          "output_type": "stream",
          "name": "stdout",
          "text": [
            "['Python', 'R', 'SPSS', 'Excel', 'SAS']\n"
          ]
        }
      ]
    },
    {
      "cell_type": "markdown",
      "source": [
        "8. Remove \"SPSS\" from the stats_tools list and print the updated list."
      ],
      "metadata": {
        "id": "UwYHAP8tJ_lz"
      }
    },
    {
      "cell_type": "code",
      "source": [
        "stats_tools.remove(\"SPSS\")\n",
        "print(stats_tools)"
      ],
      "metadata": {
        "id": "kuhGbZYlJ_yP",
        "outputId": "7125fb28-a0b9-4e60-f1cf-dd3486495154",
        "colab": {
          "base_uri": "https://localhost:8080/"
        }
      },
      "execution_count": 17,
      "outputs": [
        {
          "output_type": "stream",
          "name": "stdout",
          "text": [
            "['Python', 'R', 'Excel', 'SAS']\n"
          ]
        }
      ]
    },
    {
      "cell_type": "markdown",
      "source": [
        "9. Print the first and last elements of the stats_tools list."
      ],
      "metadata": {
        "id": "tuXnAgV3L2B8"
      }
    },
    {
      "cell_type": "code",
      "source": [
        "print(stats_tools[0])\n",
        "print(stats_tools[-1])"
      ],
      "metadata": {
        "id": "CgR26Bg-L2Mo",
        "outputId": "36cc3209-44da-4c9e-b21a-22dbd948775a",
        "colab": {
          "base_uri": "https://localhost:8080/"
        }
      },
      "execution_count": 18,
      "outputs": [
        {
          "output_type": "stream",
          "name": "stdout",
          "text": [
            "Python\n",
            "SAS\n"
          ]
        }
      ]
    },
    {
      "cell_type": "markdown",
      "source": [
        "10. Create a new list odd_numbers containing the first five odd numbers and print it."
      ],
      "metadata": {
        "id": "r9oaOOBTL2Tk"
      }
    },
    {
      "cell_type": "code",
      "source": [
        "odd_numbers = [1,3,5,7,9]\n",
        "print(odd_numbers)"
      ],
      "metadata": {
        "id": "n6V3mmHFL2ai",
        "outputId": "a871ab88-f814-4966-e64d-22d74962e70b",
        "colab": {
          "base_uri": "https://localhost:8080/"
        }
      },
      "execution_count": 23,
      "outputs": [
        {
          "output_type": "stream",
          "name": "stdout",
          "text": [
            "[1, 3, 5, 7, 9]\n"
          ]
        }
      ]
    },
    {
      "cell_type": "markdown",
      "source": [
        "11. Write a Python program to concatenate two lists: odd_numbers and [6, 8, 10]."
      ],
      "metadata": {
        "id": "eAiAR-JpL2iO"
      }
    },
    {
      "cell_type": "code",
      "source": [
        "odd_numbers.extend([6, 8, 10])\n",
        "print(odd_numbers)"
      ],
      "metadata": {
        "id": "JlzhiFMTL2pj",
        "outputId": "10bc6fb1-65c5-4672-8106-7aa93d1cb20a",
        "colab": {
          "base_uri": "https://localhost:8080/"
        }
      },
      "execution_count": 24,
      "outputs": [
        {
          "output_type": "stream",
          "name": "stdout",
          "text": [
            "[1, 3, 5, 7, 9, 6, 8, 10]\n"
          ]
        }
      ]
    },
    {
      "cell_type": "markdown",
      "source": [
        "12. Slice the stats_tools list to get elements from the second to the fourth (inclusive) and print the result."
      ],
      "metadata": {
        "id": "V3FvDq99L2wz"
      }
    },
    {
      "cell_type": "code",
      "source": [
        "print(stats_tools[1:4])"
      ],
      "metadata": {
        "id": "oDp5sclOL232",
        "outputId": "36578e48-12ed-4e3c-e084-22a7812cda81",
        "colab": {
          "base_uri": "https://localhost:8080/"
        }
      },
      "execution_count": 26,
      "outputs": [
        {
          "output_type": "stream",
          "name": "stdout",
          "text": [
            "['R', 'Excel', 'SAS']\n"
          ]
        }
      ]
    },
    {
      "cell_type": "markdown",
      "source": [
        "13. Create a dictionary named stats_summary with keys \"mean\", \"median\", \"mode\", and assign appropriate values to each. Print the dictionary."
      ],
      "metadata": {
        "id": "tGl0SGC7L3B2"
      }
    },
    {
      "cell_type": "code",
      "source": [],
      "metadata": {
        "id": "prjqhThEL3xP"
      },
      "execution_count": null,
      "outputs": []
    },
    {
      "cell_type": "markdown",
      "source": [
        "14. Write a function calculate_sum that takes a list of 5 numbers as input and returns their sum."
      ],
      "metadata": {
        "id": "p22bW4e1MM-I"
      }
    },
    {
      "cell_type": "code",
      "source": [],
      "metadata": {
        "id": "Z1k42YGYMNMm"
      },
      "execution_count": null,
      "outputs": []
    },
    {
      "cell_type": "markdown",
      "source": [
        "15. Define a function is_even that checks if a given number is even or not. Return True if even, else False."
      ],
      "metadata": {
        "id": "85FC40RaMNVY"
      }
    },
    {
      "cell_type": "code",
      "source": [],
      "metadata": {
        "id": "Ea3jQ8scMNfN"
      },
      "execution_count": null,
      "outputs": []
    },
    {
      "cell_type": "markdown",
      "source": [
        "16. Using a for loop, iterate over the odd_numbers list and print each element."
      ],
      "metadata": {
        "id": "cEwKpBwTMNoK"
      }
    },
    {
      "cell_type": "code",
      "source": [],
      "metadata": {
        "id": "g9MQwr2rM1I2"
      },
      "execution_count": null,
      "outputs": []
    },
    {
      "cell_type": "markdown",
      "source": [
        "17. Create a Python program that calculates and prints the sum of all even numbers between 1 and 100."
      ],
      "metadata": {
        "id": "pugEjQPpMvqz"
      }
    },
    {
      "cell_type": "code",
      "source": [],
      "metadata": {
        "id": "FuwblTdHMwF5"
      },
      "execution_count": null,
      "outputs": []
    },
    {
      "cell_type": "markdown",
      "source": [
        "18. Find a dataset on the Kaggle website, load it into your Colab notebook, and read it into a DataFrame."
      ],
      "metadata": {
        "id": "Nv2X0X52J4WW"
      }
    },
    {
      "cell_type": "code",
      "source": [],
      "metadata": {
        "id": "4c8iBE3oJ8-3"
      },
      "execution_count": null,
      "outputs": []
    },
    {
      "cell_type": "markdown",
      "source": [
        "19. Store the mean and median of one of the columns (e.g., age) in two variables (mean_age and median_age), then print out the values and the data types of these variables."
      ],
      "metadata": {
        "id": "RK8fzg-Xq3T7"
      }
    },
    {
      "cell_type": "code",
      "source": [],
      "metadata": {
        "id": "DzMZm4LsJ0WO"
      },
      "execution_count": null,
      "outputs": []
    },
    {
      "cell_type": "markdown",
      "source": [
        "\n",
        "20. Generate a statistical summary of the dataset and create at least four different visualization graphs."
      ],
      "metadata": {
        "id": "NK11F22f4mD2"
      }
    },
    {
      "cell_type": "code",
      "source": [],
      "metadata": {
        "id": "1RaNy_nlq3ru"
      },
      "execution_count": null,
      "outputs": []
    }
  ],
  "metadata": {
    "kernelspec": {
      "display_name": "Python 3",
      "language": "python",
      "name": "python3"
    },
    "language_info": {
      "codemirror_mode": {
        "name": "ipython",
        "version": 3
      },
      "file_extension": ".py",
      "mimetype": "text/x-python",
      "name": "python",
      "nbconvert_exporter": "python",
      "pygments_lexer": "ipython3",
      "version": "3.12.0"
    },
    "colab": {
      "provenance": [],
      "include_colab_link": true
    }
  },
  "nbformat": 4,
  "nbformat_minor": 0
}